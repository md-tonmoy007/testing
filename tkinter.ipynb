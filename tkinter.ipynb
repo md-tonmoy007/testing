{
 "cells": [
  {
   "cell_type": "code",
   "execution_count": 2,
   "id": "91a47eef-b458-45b8-90ab-e5b97e9a8850",
   "metadata": {},
   "outputs": [],
   "source": [
    "from  tkinter import *\n",
    "\n",
    "tk = Tk()\n",
    "canvas = Canvas(tk, width=500, height=500)\n",
    "canvas.pack()\n",
    "canvas.create_rectangle(10, 10, 50, 50)\n",
    "\n",
    "canvas.mainloop()"
   ]
  },
  {
   "cell_type": "code",
   "execution_count": 7,
   "id": "41db4174-9cb0-4a99-b93f-38b43c60a44f",
   "metadata": {},
   "outputs": [],
   "source": [
    "from  tkinter import *\n",
    "import random\n",
    "\n",
    "def random_rectangle(width, height):\n",
    "    x1 = random.randrange(width)\n",
    "    y1 = random.randrange(height)\n",
    "    x2 = x1 + random.randrange(width)\n",
    "    y2 = y1 + random.randrange(height)\n",
    "    canvas.create_rectangle(x1, y1, x2, y2)\n",
    "\n",
    "tk = Tk()\n",
    "canvas = Canvas(tk, width=500, height=500)\n",
    "canvas.pack()\n",
    "random_rectangle(200, 200)\n",
    "\n",
    "canvas.mainloop()"
   ]
  },
  {
   "cell_type": "markdown",
   "id": "25986ea3-c148-425a-b8bb-2516ece49970",
   "metadata": {},
   "source": [
    " \n",
    "from  tkinter import *\n",
    "import random\n",
    "\n",
    "def random_rectangle(width, height):\n",
    "    x1 = random.randrange(width)\n",
    "    y1 = random.randrange(height)\n",
    "    x2 = x1 + random.randrange(width)\n",
    "    y2 = y1 + random.randrange(height)\n",
    "    canvas.create_rectangle(x1, y1, x2, y2)\n",
    "\n",
    "tk = Tk()\n",
    "canvas = Canvas(tk, width=500, height=500)\n",
    "canvas.pack()\n",
    "for \n",
    "\n",
    "canvas.mainloop()"
   ]
  },
  {
   "cell_type": "code",
   "execution_count": 10,
   "id": "4619def9-ab07-49f3-867b-2005f2b48b21",
   "metadata": {},
   "outputs": [],
   "source": [
    "from  tkinter import *\n",
    "import random\n",
    "\n",
    "def random_rectangle(width, height):\n",
    "    x1 = random.randrange(width)\n",
    "    y1 = random.randrange(height)\n",
    "    x2 = x1 + random.randrange(width)\n",
    "    y2 = y1 + random.randrange(height)\n",
    "    canvas.create_rectangle(x1, y1, x2, y2)\n",
    "\n",
    "tk = Tk()\n",
    "canvas = Canvas(tk, width=500, height=500)\n",
    "canvas.pack()\n",
    "random_rectangle(200, 200)\n",
    "\n",
    "for i in range(1, 400):\n",
    "    random_rectangle(200 , i)\n",
    "\n",
    "canvas.mainloop()"
   ]
  },
  {
   "cell_type": "code",
   "execution_count": 11,
   "id": "e7dd703b-a892-42b8-8715-aef0bd3d2536",
   "metadata": {},
   "outputs": [],
   "source": [
    "from  tkinter import *\n",
    "import random\n",
    "\n",
    "def random_rectangle(width, height, f_color):\n",
    "    x1 = random.randrange(width)\n",
    "    y1 = random.randrange(height)\n",
    "    x2 = x1 + random.randrange(width)\n",
    "    y2 = y1 + random.randrange(height)\n",
    "    canvas.create_rectangle(x1, y1, x2, y2, fill=f_color)\n",
    "\n",
    "tk = Tk()\n",
    "canvas = Canvas(tk, width=500, height=500)\n",
    "canvas.pack()\n",
    "\n",
    "colors = ['green', 'red', 'blue', 'orange', 'yellow', 'pink', 'purple', 'violent', 'magenta', 'cyan']\n",
    "# random_rectangle(200, 200)\n",
    "\n",
    "for color in colors:\n",
    "    random_rectangle(400 , 400)\n",
    "\n",
    "canvas.mainloop()"
   ]
  },
  {
   "cell_type": "code",
   "execution_count": null,
   "id": "297ab4b7-32e3-4a1f-af78-9bc14c57bc91",
   "metadata": {},
   "outputs": [],
   "source": []
  }
 ],
 "metadata": {
  "kernelspec": {
   "display_name": "Python 3 (ipykernel)",
   "language": "python",
   "name": "python3"
  },
  "language_info": {
   "codemirror_mode": {
    "name": "ipython",
    "version": 3
   },
   "file_extension": ".py",
   "mimetype": "text/x-python",
   "name": "python",
   "nbconvert_exporter": "python",
   "pygments_lexer": "ipython3",
   "version": "3.11.6"
  }
 },
 "nbformat": 4,
 "nbformat_minor": 5
}
